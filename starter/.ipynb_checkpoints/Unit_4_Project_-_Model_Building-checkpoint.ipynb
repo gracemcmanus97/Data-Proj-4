{
 "cells": [
  {
   "cell_type": "markdown",
   "id": "eebbc19f",
   "metadata": {},
   "source": [
    "# Unit 4 Project - Model Building "
   ]
  },
  {
   "cell_type": "markdown",
   "id": "0e314f76",
   "metadata": {},
   "source": [
    "# Part 1 - Learn Linear Regression Theory"
   ]
  },
  {
   "cell_type": "markdown",
   "id": "43b21b31",
   "metadata": {},
   "source": [
    "### Step 1: Describe Linear Regression Models "
   ]
  },
  {
   "cell_type": "markdown",
   "id": "146aec7e",
   "metadata": {},
   "source": [
    "Answer the following questions after reading the resource material and watching the video lectures linked in the Linear Regression Theory section:"
   ]
  },
  {
   "cell_type": "markdown",
   "id": "cc7b5db5",
   "metadata": {},
   "source": [
    "- In your own words, briefly describe a simple linear regression model.\n",
    "> A simple linear regression model describes the relationship between a dependent variable, Y, and one or more independent variables, X.\n",
    "- What type of machine learning is linear regression?\n",
    "> Linear regression is a supervise machine-learning regression algorithm. \n",
    "- What is a “line of best fit” using the OLS method?\n",
    "> A straight line that minimizes the distance between it and some data.\n",
    "- What is the difference between correlation and regression?\n",
    "> Correlation quantifies the strength of the linear relationship between a pair of variables, whereas regression expreses the relationship in the form of an equation. \n",
    "- Describe a scenario when you would use linear regression and why you would use it. \n",
    "> I personally would use linear regression for many things. For example, you can use it to forecast cash intake and output. Businesses rely heavily on linear regression models for forecasting sales to try to determine how successful or not their upcoming months will be."
   ]
  },
  {
   "cell_type": "markdown",
   "id": "fefd8893",
   "metadata": {},
   "source": [
    "### Step 2: Describe Linear Regression Assumptions "
   ]
  },
  {
   "cell_type": "markdown",
   "id": "4abd7e77",
   "metadata": {},
   "source": [
    "In your own words, describe the following linear regression assumptions after reading the resource material and watching the video lectures linked in the Linear Regression Theory section:"
   ]
  },
  {
   "cell_type": "markdown",
   "id": "2005712c",
   "metadata": {},
   "source": [
    "- Linearity\n",
    "> The relationship between X and the mean of Y is linear\n",
    "- Normality\n",
    "> For any fixed value of X, Y is normally distributed\n",
    "- Homoscedasticity\n",
    "> The variance of residual is the same for any value of X.\n",
    "- No multicollinearity\n",
    "> Occurs when independent variables in the model are not highly correlated with each other, allowing for more reliable and interpretable results\n",
    "- No endogeneity\n",
    "> The independent variables are exogenous, meaning they are not affected by the dependent variable and therefore the coefficient estimates are more accurate and reliable\n",
    "- No autocorrelation\n",
    "> Means there is no relationship between the values of a time series and its lagged values."
   ]
  },
  {
   "cell_type": "markdown",
   "id": "1d61b124",
   "metadata": {},
   "source": [
    "### Step 3: Describe How to Interpret Results from Correlation Table in Model Summary "
   ]
  },
  {
   "cell_type": "markdown",
   "id": "84e72672",
   "metadata": {},
   "source": [
    "In your own words, describe the following terms after reading the resource material and watching the video lectures linked in the Linear Regression Theory section:"
   ]
  },
  {
   "cell_type": "markdown",
   "id": "63412327",
   "metadata": {},
   "source": [
    "- Coefficient of Constant / Intercept (b0)\n",
    "> Represents the expected mean value of the dependent variable (y) when all independent variables (x) are equal to 0. The value of b0 can be positive, negative, or zero and its interpretation depends on the context of the problem being analyzed. \n",
    "- Coefficient of Independent Variable (B1)\n",
    "> Represents the change in the dependent variable (y) per unit change in the independent variable (x). It measures the strength and direction of the relationship between the two variables. \n",
    "- Standard Error\n",
    "> Measure of the variability or uncertainty associated with a statistical estimate such as the coefficient in a regression model or a mean of a sample. \n",
    "- T-Statistic\n",
    "> Measure of how many standard deviations a coefficient in a regression model deviates from zero\n",
    "- P-Value of T-Statistic (from the independent variable)\n",
    "> The probability of obtaining a result this or more extreme given that the null hypothesis is true.\n"
   ]
  },
  {
   "cell_type": "markdown",
   "id": "36c3f83e",
   "metadata": {},
   "source": [
    "### Step 4:  Explain R-Squared and adjusted R-squared"
   ]
  },
  {
   "cell_type": "markdown",
   "id": "f3cda47b",
   "metadata": {},
   "source": [
    "In your own words, describe the following terms after reading the resource material and watching the video lectures linked in the Linear Regression Theory section:"
   ]
  },
  {
   "cell_type": "markdown",
   "id": "493a011c",
   "metadata": {},
   "source": [
    "- R-squared\n",
    "> Explains the proportion of variance in the dependent variable that can be explained by the independent variable.\n",
    "- Adjusted R-squared\n",
    "> A modified version of r-squared that adjusts for the number of predictors.\n"
   ]
  },
  {
   "cell_type": "markdown",
   "id": "e365eb29",
   "metadata": {},
   "source": [
    "# Part 2 - Linear Regression in Practice"
   ]
  },
  {
   "cell_type": "markdown",
   "id": "fe1421ad",
   "metadata": {},
   "source": [
    "### Step 1: Import libraries and load dataset"
   ]
  },
  {
   "cell_type": "code",
   "execution_count": null,
   "id": "455d7c79",
   "metadata": {
    "scrolled": true
   },
   "outputs": [],
   "source": [
    "# make necessary imports\n",
    "import pandas as pd\n",
    "import matplotlib.pyplot as plt\n",
    "import numpy as np\n",
    "import seaborn as sns\n",
    "import statsmodels.api as sm\n",
    "\n",
    "%matplotlib inline\n",
    "sns.set()"
   ]
  },
  {
   "cell_type": "code",
   "execution_count": null,
   "id": "ef01e3da",
   "metadata": {},
   "outputs": [],
   "source": [
    "# load data\n",
    "df = pd.read_csv('house_data.csv')\n",
    "df"
   ]
  },
  {
   "cell_type": "markdown",
   "id": "2ee41601",
   "metadata": {},
   "source": [
    "### Step 2: Explore the data "
   ]
  },
  {
   "cell_type": "markdown",
   "id": "b8349c00",
   "metadata": {},
   "source": [
    "#### Spend time exploring the data and looking for relationships between variables. "
   ]
  },
  {
   "cell_type": "code",
   "execution_count": null,
   "id": "30bae650",
   "metadata": {},
   "outputs": [],
   "source": [
    "# explore data below (you will need to make new cells)\n",
    "sns.pairplot(df);"
   ]
  },
  {
   "cell_type": "code",
   "execution_count": null,
   "id": "fbea1f17",
   "metadata": {},
   "outputs": [],
   "source": [
    "df.info()"
   ]
  },
  {
   "cell_type": "code",
   "execution_count": null,
   "id": "ea582e1b",
   "metadata": {},
   "outputs": [],
   "source": [
    "df = df[['price', 'sqft_living', 'sqft_lot', 'year_built', 'house_condition', 'grade', 'view']].copy()"
   ]
  },
  {
   "cell_type": "code",
   "execution_count": null,
   "id": "3cce7748",
   "metadata": {},
   "outputs": [],
   "source": [
    "df.describe()"
   ]
  },
  {
   "cell_type": "code",
   "execution_count": null,
   "id": "9cc916dc",
   "metadata": {},
   "outputs": [],
   "source": [
    "sns.pairplot(df);"
   ]
  },
  {
   "cell_type": "code",
   "execution_count": null,
   "id": "a20fdaba",
   "metadata": {},
   "outputs": [],
   "source": [
    "# imports pearsonr function to find correlations and pvalues\n",
    "from scipy.stats import pearsonr\n",
    "\n",
    "# creates function which rates pvalues on a 3-1 star basis with 3 ***'s being the most statistically significant\n",
    "def corrfunc(x, y, **kwargs):\n",
    "    def pvalue_stars(p):\n",
    "        if 0.05 >= p > 0.01:\n",
    "            return '*'\n",
    "        elif 0.01 >= p > 0.001:\n",
    "            return '**'\n",
    "        elif p <= 0.001:\n",
    "            return '***'\n",
    "        else:\n",
    "            return ''\n",
    "    cmap = kwargs['cmap']\n",
    "    norm = kwargs['norm']\n",
    "    ax = plt.gca()\n",
    "    ax.grid(False)\n",
    "    r, p = pearsonr(x, y)\n",
    "    facecolor = cmap(norm(r))\n",
    "    ax.set_facecolor(facecolor)\n",
    "    lightness = (max(facecolor[:3]) + min(facecolor[:3])) / 2\n",
    "    ax.annotate(f\"{r:.2f}{pvalue_stars(p)}\", xy=(.5, .5), xycoords=ax,\n",
    "                color='white' if lightness < 0.7 else 'black',\n",
    "                size=18, ha='center', va='center')\n",
    "\n",
    "# pairgrid w/ half pair plot, histograms down diagonal, correlation heatmap, & pvalue's represented by *'s\n",
    "\n",
    "g = sns.PairGrid(df, height=1.5, diag_sharey=False)\n",
    "g.map_lower(sns.scatterplot)\n",
    "g.map_diag(sns.kdeplot, shade=True)\n",
    "g.map_upper(corrfunc,\n",
    "            cmap=plt.get_cmap('RdBu_r'), \n",
    "            norm=plt.Normalize(vmin=-1, vmax=1))\n",
    "g.add_legend()\n",
    "plt.show()"
   ]
  },
  {
   "cell_type": "markdown",
   "id": "3eea19eb",
   "metadata": {},
   "source": [
    "### Step 3: Determine independent and dependent variable"
   ]
  },
  {
   "cell_type": "code",
   "execution_count": null,
   "id": "8138e69a",
   "metadata": {},
   "outputs": [],
   "source": [
    "# set X \n",
    "x1 = df['sqft_living']\n",
    "# set Y \n",
    "y=df['price']"
   ]
  },
  {
   "cell_type": "code",
   "execution_count": null,
   "id": "6820160a",
   "metadata": {},
   "outputs": [],
   "source": [
    "# visualize relationship between X and Y\n",
    "plt.figure(figsize=(10,6))\n",
    "plt.scatter(x1, y)\n",
    "plt.xlabel('Sq. Ft. of Living Space', fontsize = 18)\n",
    "plt.ylabel('Price', fontsize = 18);"
   ]
  },
  {
   "cell_type": "markdown",
   "id": "7aad8890",
   "metadata": {},
   "source": [
    "### Step 4: Fit Regression "
   ]
  },
  {
   "cell_type": "markdown",
   "id": "21c6a9b7",
   "metadata": {},
   "source": [
    "Solution below is for example only. Results may vary depending on variables chosen by student to use in linear regression model and which statistical package is used for linear regression model."
   ]
  },
  {
   "cell_type": "code",
   "execution_count": null,
   "id": "87025c16",
   "metadata": {},
   "outputs": [],
   "source": [
    "# fit model to X and Y variables (you will need to make more cells)\n",
    "x = sm.add_constant(x1)\n",
    "results = sm.OLS(y,x).fit()"
   ]
  },
  {
   "cell_type": "code",
   "execution_count": null,
   "id": "b426d3b5",
   "metadata": {},
   "outputs": [],
   "source": [
    "###Step 5: Interpret Model Summary"
   ]
  },
  {
   "cell_type": "code",
   "execution_count": null,
   "id": "db827182",
   "metadata": {},
   "outputs": [],
   "source": [
    "# print out and interpret model summary // terms identified below\n",
    "results.summary()"
   ]
  },
  {
   "cell_type": "markdown",
   "id": "b77e98d8",
   "metadata": {},
   "source": [
    "Interpret the following from your model:\n",
    "\n",
    "- R-squared \n",
    "> The r-squared value is .376. This means that 37.6% of the variation in house prices depends on the square footage.\n",
    "- Coefficient of independent variable\n",
    "> The coefficient of the independent variable is 202.9775. This means that for a one foot (squared) increase in square footage, we can expect a 203 ish dollar increase in price.\n",
    "- P-value of T-statistic\n",
    "> The p-value of the t-statistic is 0. This means that we are confident that we can reject the null hypothesis (that there is no linear relationship between the variables square foot and price). So we have strong evidence of a linear relationship.\n",
    "- P-value of F-statistic\n",
    "> The f statistic tests the overall significance of the regression model. it tests that all of the independent variables combined do not contribute significantly to the model. Since the p value is 0, it means there is enough evidence to conclude that there is a relationship between the independent and dependent variables."
   ]
  },
  {
   "cell_type": "markdown",
   "id": "240faf5b",
   "metadata": {},
   "source": [
    "### Step 6: Predict Values"
   ]
  },
  {
   "cell_type": "markdown",
   "id": "dfbf4cde",
   "metadata": {},
   "source": [
    "Solution below is for example only. Results may vary depending on variables chosen by student to use in linear regression model. "
   ]
  },
  {
   "cell_type": "code",
   "execution_count": null,
   "id": "b2ccd4e8",
   "metadata": {
    "scrolled": true
   },
   "outputs": [],
   "source": [
    "# predict new y values (dependent variables) by feeding model new independent variable values\n",
    "new_df = pd.DataFrame({'constant':1, 'sqft_living':[1100, 1500]})\n",
    "new_df"
   ]
  },
  {
   "cell_type": "code",
   "execution_count": null,
   "id": "9eb34563",
   "metadata": {},
   "outputs": [],
   "source": [
    "predictions = results. predict(new_df)\n",
    "predictions"
   ]
  },
  {
   "cell_type": "code",
   "execution_count": null,
   "id": "056b927c",
   "metadata": {},
   "outputs": [],
   "source": [
    "new_df['price_predictions']=results.predict(new_df)\n",
    "new_df"
   ]
  },
  {
   "cell_type": "markdown",
   "id": "34b4cfd1",
   "metadata": {},
   "source": [
    "# Part 3 - Multiple Linear Regression"
   ]
  },
  {
   "cell_type": "markdown",
   "id": "a055f1f6",
   "metadata": {},
   "source": [
    "### Step 1: From Data Exploration in Part 2, Pick Another Independent Variable "
   ]
  },
  {
   "cell_type": "code",
   "execution_count": null,
   "id": "e73ac274",
   "metadata": {},
   "outputs": [],
   "source": [
    "# Pick another independent variable. Be sure to avoid multicollinearity. \n",
    "y = df['price']\n",
    "x1 = df[['sqft_living', 'year_built']]"
   ]
  },
  {
   "cell_type": "markdown",
   "id": "8434f441",
   "metadata": {},
   "source": [
    "### Step 2: Fit A New Multiple Linear Regression Model to the New Independent Variables"
   ]
  },
  {
   "cell_type": "markdown",
   "id": "29cc17a7",
   "metadata": {},
   "source": [
    "Solution below is for example only. Results may vary depending on variables chosen by student to use in linear regression model. "
   ]
  },
  {
   "cell_type": "code",
   "execution_count": null,
   "id": "fc9ba21a",
   "metadata": {},
   "outputs": [],
   "source": [
    "# fit new regression model (you will need to make more cells)\n",
    "x = sm.add_constant(x1)\n",
    "results = sm.OLS(y, x).fit()\n",
    "results.summary()"
   ]
  },
  {
   "cell_type": "markdown",
   "id": "35797232",
   "metadata": {},
   "source": [
    "### Step 3: Interpret Model Summary "
   ]
  },
  {
   "cell_type": "markdown",
   "id": "d551ad1d",
   "metadata": {},
   "source": [
    "Print the output of the results summary from your model. Interpret the following parts of your results summary. Include an explanation of what the given numbers mean in regards to your model.\n",
    "- R-squared \n",
    "> 41.5% of the variation in price is explained by square feet of living space and year built.\n",
    "- Adjusted R-squared\n",
    "> The same value. The adjusted r-squared value adjusts for the fact that adding more independent variables will always increase r-squared, even if the variables do not contribute to the explanation of the dependent variable.\n",
    "- Coefficient of independent variables\n",
    "> The coefficient of sqft_living is 226.3349. Technically this means a house with 0 square feet would cost 226ish dollars. This doesn't make much sense because the y-intercept in this case does not have much meaning. For the year built, if it were built in the year 0 it would cost -1715 dollars. This also does not make sense.\n",
    "- P-value of T-statistic\n",
    "> 0\n",
    "- P-value of F-statistic\n",
    "> 0\n"
   ]
  },
  {
   "cell_type": "markdown",
   "id": "b6e3a121",
   "metadata": {},
   "source": [
    "If you would like, continue to create new linear models as you add more than two independent variables. Notice the differences in the R-Squared values you get from each model. "
   ]
  },
  {
   "cell_type": "markdown",
   "id": "557440ed",
   "metadata": {},
   "source": [
    "### Step 4: Predict Values"
   ]
  },
  {
   "cell_type": "code",
   "execution_count": null,
   "id": "7c9cc5f1",
   "metadata": {},
   "outputs": [],
   "source": [
    "# predict new y values (dependent variables) by feeding model new independent variable values\n",
    "new_df= pd.DataFrame({'constant':1, 'sqft_living':[1100, 1500], 'year_built':[1960, 1980]})\n",
    "new_df"
   ]
  },
  {
   "cell_type": "code",
   "execution_count": null,
   "id": "eb32a60f",
   "metadata": {},
   "outputs": [],
   "source": [
    "predictions = results.predict(new_df)\n",
    "predictions"
   ]
  },
  {
   "cell_type": "code",
   "execution_count": null,
   "id": "b92def32",
   "metadata": {},
   "outputs": [],
   "source": [
    "new_df['price_predictions'] = results.predict(new_df)\n",
    "new_df"
   ]
  },
  {
   "cell_type": "markdown",
   "id": "a5ba4519",
   "metadata": {},
   "source": [
    "### Step 5: Report Observations in Difference Between Simple and Multiple Linear Regression Models You Made "
   ]
  },
  {
   "cell_type": "code",
   "execution_count": null,
   "id": "12371f0b",
   "metadata": {},
   "outputs": [],
   "source": [
    "# create new markdown cell and write down your observations"
   ]
  },
  {
   "cell_type": "markdown",
   "id": "0f7b1126",
   "metadata": {},
   "source": [
    "# Part 4 - Multivariate Time Series Analysis"
   ]
  },
  {
   "cell_type": "code",
   "execution_count": null,
   "id": "2bd87209",
   "metadata": {},
   "outputs": [],
   "source": [
    "# complete the time series analysis exercise separately from data-time-series folder"
   ]
  },
  {
   "cell_type": "markdown",
   "id": "340e64e4",
   "metadata": {},
   "source": [
    "# Part 5 - Submit Project "
   ]
  }
 ],
 "metadata": {
  "kernelspec": {
   "display_name": "Python 3 (ipykernel)",
   "language": "python",
   "name": "python3"
  },
  "language_info": {
   "codemirror_mode": {
    "name": "ipython",
    "version": 3
   },
   "file_extension": ".py",
   "mimetype": "text/x-python",
   "name": "python",
   "nbconvert_exporter": "python",
   "pygments_lexer": "ipython3",
   "version": "3.9.13"
  }
 },
 "nbformat": 4,
 "nbformat_minor": 5
}
